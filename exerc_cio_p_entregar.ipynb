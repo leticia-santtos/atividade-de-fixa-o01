{
  "nbformat": 4,
  "nbformat_minor": 0,
  "metadata": {
    "colab": {
      "provenance": [],
      "authorship_tag": "ABX9TyOmzOvwzhQb0ouvOzkOnS1W",
      "include_colab_link": true
    },
    "kernelspec": {
      "name": "python3",
      "display_name": "Python 3"
    },
    "language_info": {
      "name": "python"
    }
  },
  "cells": [
    {
      "cell_type": "markdown",
      "metadata": {
        "id": "view-in-github",
        "colab_type": "text"
      },
      "source": [
        "<a href=\"https://colab.research.google.com/github/leticia-santtos/atividade-de-fixa-o01/blob/main/exerc_cio_p_entregar.ipynb\" target=\"_parent\"><img src=\"https://colab.research.google.com/assets/colab-badge.svg\" alt=\"Open In Colab\"/></a>"
      ]
    },
    {
      "cell_type": "markdown",
      "source": [
        "**1** Faça um programa que peça dois números e imprima o maior deles.\n"
      ],
      "metadata": {
        "id": "pb5gSzq4Vblj"
      }
    },
    {
      "cell_type": "code",
      "source": [
        "n1 = int(input('Digite um número:'))\n",
        "n2 = int(input('Digite outro número:'))\n",
        "if n1 > n2:\n",
        "  print (' O maior número é:' , n1)\n",
        "elif n2 > n1:\n",
        "  print ('O maior número é:' , n2)"
      ],
      "metadata": {
        "colab": {
          "base_uri": "https://localhost:8080/"
        },
        "id": "yP9qaZn0X6lp",
        "outputId": "f66f4b4a-cf4c-4bce-e449-e323a6795cc5"
      },
      "execution_count": null,
      "outputs": [
        {
          "output_type": "stream",
          "name": "stdout",
          "text": [
            "Digite um número:12\n",
            "Digite outro número:34\n",
            "O maior número é: 34\n"
          ]
        }
      ]
    },
    {
      "cell_type": "markdown",
      "source": [
        "**2** Faça um script que peça um valor e mostre se o valor é positivo ou negativo."
      ],
      "metadata": {
        "id": "uF-vbofbY2FQ"
      }
    },
    {
      "cell_type": "code",
      "source": [
        "valor = int(input('Digite um valor:'))\n",
        "if valor > 0:\n",
        "  print ( valor , 'É um número positivo')\n",
        "elif valor < 0:\n",
        "  print (valor , 'É um número negativo')"
      ],
      "metadata": {
        "colab": {
          "base_uri": "https://localhost:8080/"
        },
        "id": "8fEA-DGVZr4v",
        "outputId": "d7fc079b-fe20-4ed5-90b5-04afd40fe15c"
      },
      "execution_count": null,
      "outputs": [
        {
          "output_type": "stream",
          "name": "stdout",
          "text": [
            "Digite um valor:26\n",
            "26 É um número positivo\n"
          ]
        }
      ]
    },
    {
      "cell_type": "markdown",
      "source": [
        "**3** Crie um programa que verifique se uma letra digitada é F ou M e conforme a letra escrever:F-Feminino, M-Masculino, Sexo inválido."
      ],
      "metadata": {
        "id": "N-fcY5hVarJB"
      }
    },
    {
      "cell_type": "code",
      "source": [
        "gênero = input('Seu gênero é: F (feminino), M (masculino)?')\n",
        "if gênero == 'F':\n",
        "  print ('Seu gênero é: Feminino.')\n",
        "elif gênero == 'M':\n",
        "  print ('Seu gênero é: Masculino.')\n",
        "else :\n",
        "  print ('Sexo inválido')"
      ],
      "metadata": {
        "colab": {
          "base_uri": "https://localhost:8080/"
        },
        "id": "q-s8S8LSbuDS",
        "outputId": "0b0a279f-9688-42d8-ee4e-77739c6e1040"
      },
      "execution_count": null,
      "outputs": [
        {
          "output_type": "stream",
          "name": "stdout",
          "text": [
            "Seu gênero é: F (feminino), M (masculino)?F\n",
            "Seu gênero é: Feminino.\n"
          ]
        }
      ]
    }
  ]
}